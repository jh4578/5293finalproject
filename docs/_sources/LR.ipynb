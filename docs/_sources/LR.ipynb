{
  "nbformat": 4,
  "nbformat_minor": 0,
  "metadata": {
    "colab": {
      "provenance": []
    },
    "kernelspec": {
      "name": "python3",
      "display_name": "Python 3"
    },
    "language_info": {
      "name": "python"
    }
  },
  "cells": [
    {
      "cell_type": "markdown",
      "source": [
        "# Model1"
      ],
      "metadata": {
        "id": "1xw4CF15wxJX"
      }
    },
    {
      "cell_type": "markdown",
      "source": [
        "## Linear Regression"
      ],
      "metadata": {
        "id": "0aKzH0fzarSH"
      }
    },
    {
      "cell_type": "code",
      "execution_count": null,
      "metadata": {
        "id": "xm1oSyxJtny9"
      },
      "outputs": [],
      "source": [
        "import pandas as pd\n",
        "import yfinance as yf\n",
        "import numpy as np\n",
        "from matplotlib import pyplot as plt"
      ]
    },
    {
      "cell_type": "code",
      "source": [
        "data = pd.read_csv('https://raw.githubusercontent.com/jh4578/5293finalproject/main/GOOG_update.csv',date_parser = True)"
      ],
      "metadata": {
        "id": "F6eU2HlTtwNS"
      },
      "execution_count": null,
      "outputs": []
    },
    {
      "cell_type": "code",
      "source": [
        "data.index = data['Date']\n",
        "data.drop(columns = ['Date','High','Low','Close','Adj Close'], inplace = True)"
      ],
      "metadata": {
        "id": "Mw_wxab-tyQA"
      },
      "execution_count": null,
      "outputs": []
    },
    {
      "cell_type": "code",
      "source": [
        "data.head()"
      ],
      "metadata": {
        "colab": {
          "base_uri": "https://localhost:8080/",
          "height": 237
        },
        "id": "JzBJDj15t4r5",
        "outputId": "2b06c401-7765-43cd-8d03-119ada46538e"
      },
      "execution_count": null,
      "outputs": [
        {
          "output_type": "execute_result",
          "data": {
            "text/plain": [
              "                Open       Volume       CPI  Core CPI        gdp  \\\n",
              "Date                                                               \n",
              "2004-09-01  2.557912   4270113667  2.240201     197.5  12305.307   \n",
              "2004-10-01  3.257789  10321258145  2.237219     197.9  12305.307   \n",
              "2004-11-01  4.820681  11145383635  2.301213     198.3  12305.307   \n",
              "2004-12-01  4.531764   5835483147  2.313886     198.6  12527.214   \n",
              "2005-01-01  4.916571   8237356337  2.315890     199.0  12527.214   \n",
              "\n",
              "            Unemployment_rate        m1       DFF        M2  \n",
              "Date                                                         \n",
              "2004-09-01                5.4  1343.475  1.605000  6337.150  \n",
              "2004-10-01                5.5  1348.975  1.760968  6351.475  \n",
              "2004-11-01                5.4  1373.940  1.932000  6395.220  \n",
              "2004-12-01                5.4  1390.450  2.156129  6448.450  \n",
              "2005-01-01                5.3  1374.700  2.279355  6407.200  "
            ],
            "text/html": [
              "\n",
              "  <div id=\"df-65cdb6cc-2aa9-4c8c-a0b5-3a2c2a6ae815\">\n",
              "    <div class=\"colab-df-container\">\n",
              "      <div>\n",
              "<style scoped>\n",
              "    .dataframe tbody tr th:only-of-type {\n",
              "        vertical-align: middle;\n",
              "    }\n",
              "\n",
              "    .dataframe tbody tr th {\n",
              "        vertical-align: top;\n",
              "    }\n",
              "\n",
              "    .dataframe thead th {\n",
              "        text-align: right;\n",
              "    }\n",
              "</style>\n",
              "<table border=\"1\" class=\"dataframe\">\n",
              "  <thead>\n",
              "    <tr style=\"text-align: right;\">\n",
              "      <th></th>\n",
              "      <th>Open</th>\n",
              "      <th>Volume</th>\n",
              "      <th>CPI</th>\n",
              "      <th>Core CPI</th>\n",
              "      <th>gdp</th>\n",
              "      <th>Unemployment_rate</th>\n",
              "      <th>m1</th>\n",
              "      <th>DFF</th>\n",
              "      <th>M2</th>\n",
              "    </tr>\n",
              "    <tr>\n",
              "      <th>Date</th>\n",
              "      <th></th>\n",
              "      <th></th>\n",
              "      <th></th>\n",
              "      <th></th>\n",
              "      <th></th>\n",
              "      <th></th>\n",
              "      <th></th>\n",
              "      <th></th>\n",
              "      <th></th>\n",
              "    </tr>\n",
              "  </thead>\n",
              "  <tbody>\n",
              "    <tr>\n",
              "      <th>2004-09-01</th>\n",
              "      <td>2.557912</td>\n",
              "      <td>4270113667</td>\n",
              "      <td>2.240201</td>\n",
              "      <td>197.5</td>\n",
              "      <td>12305.307</td>\n",
              "      <td>5.4</td>\n",
              "      <td>1343.475</td>\n",
              "      <td>1.605000</td>\n",
              "      <td>6337.150</td>\n",
              "    </tr>\n",
              "    <tr>\n",
              "      <th>2004-10-01</th>\n",
              "      <td>3.257789</td>\n",
              "      <td>10321258145</td>\n",
              "      <td>2.237219</td>\n",
              "      <td>197.9</td>\n",
              "      <td>12305.307</td>\n",
              "      <td>5.5</td>\n",
              "      <td>1348.975</td>\n",
              "      <td>1.760968</td>\n",
              "      <td>6351.475</td>\n",
              "    </tr>\n",
              "    <tr>\n",
              "      <th>2004-11-01</th>\n",
              "      <td>4.820681</td>\n",
              "      <td>11145383635</td>\n",
              "      <td>2.301213</td>\n",
              "      <td>198.3</td>\n",
              "      <td>12305.307</td>\n",
              "      <td>5.4</td>\n",
              "      <td>1373.940</td>\n",
              "      <td>1.932000</td>\n",
              "      <td>6395.220</td>\n",
              "    </tr>\n",
              "    <tr>\n",
              "      <th>2004-12-01</th>\n",
              "      <td>4.531764</td>\n",
              "      <td>5835483147</td>\n",
              "      <td>2.313886</td>\n",
              "      <td>198.6</td>\n",
              "      <td>12527.214</td>\n",
              "      <td>5.4</td>\n",
              "      <td>1390.450</td>\n",
              "      <td>2.156129</td>\n",
              "      <td>6448.450</td>\n",
              "    </tr>\n",
              "    <tr>\n",
              "      <th>2005-01-01</th>\n",
              "      <td>4.916571</td>\n",
              "      <td>8237356337</td>\n",
              "      <td>2.315890</td>\n",
              "      <td>199.0</td>\n",
              "      <td>12527.214</td>\n",
              "      <td>5.3</td>\n",
              "      <td>1374.700</td>\n",
              "      <td>2.279355</td>\n",
              "      <td>6407.200</td>\n",
              "    </tr>\n",
              "  </tbody>\n",
              "</table>\n",
              "</div>\n",
              "      <button class=\"colab-df-convert\" onclick=\"convertToInteractive('df-65cdb6cc-2aa9-4c8c-a0b5-3a2c2a6ae815')\"\n",
              "              title=\"Convert this dataframe to an interactive table.\"\n",
              "              style=\"display:none;\">\n",
              "        \n",
              "  <svg xmlns=\"http://www.w3.org/2000/svg\" height=\"24px\"viewBox=\"0 0 24 24\"\n",
              "       width=\"24px\">\n",
              "    <path d=\"M0 0h24v24H0V0z\" fill=\"none\"/>\n",
              "    <path d=\"M18.56 5.44l.94 2.06.94-2.06 2.06-.94-2.06-.94-.94-2.06-.94 2.06-2.06.94zm-11 1L8.5 8.5l.94-2.06 2.06-.94-2.06-.94L8.5 2.5l-.94 2.06-2.06.94zm10 10l.94 2.06.94-2.06 2.06-.94-2.06-.94-.94-2.06-.94 2.06-2.06.94z\"/><path d=\"M17.41 7.96l-1.37-1.37c-.4-.4-.92-.59-1.43-.59-.52 0-1.04.2-1.43.59L10.3 9.45l-7.72 7.72c-.78.78-.78 2.05 0 2.83L4 21.41c.39.39.9.59 1.41.59.51 0 1.02-.2 1.41-.59l7.78-7.78 2.81-2.81c.8-.78.8-2.07 0-2.86zM5.41 20L4 18.59l7.72-7.72 1.47 1.35L5.41 20z\"/>\n",
              "  </svg>\n",
              "      </button>\n",
              "      \n",
              "  <style>\n",
              "    .colab-df-container {\n",
              "      display:flex;\n",
              "      flex-wrap:wrap;\n",
              "      gap: 12px;\n",
              "    }\n",
              "\n",
              "    .colab-df-convert {\n",
              "      background-color: #E8F0FE;\n",
              "      border: none;\n",
              "      border-radius: 50%;\n",
              "      cursor: pointer;\n",
              "      display: none;\n",
              "      fill: #1967D2;\n",
              "      height: 32px;\n",
              "      padding: 0 0 0 0;\n",
              "      width: 32px;\n",
              "    }\n",
              "\n",
              "    .colab-df-convert:hover {\n",
              "      background-color: #E2EBFA;\n",
              "      box-shadow: 0px 1px 2px rgba(60, 64, 67, 0.3), 0px 1px 3px 1px rgba(60, 64, 67, 0.15);\n",
              "      fill: #174EA6;\n",
              "    }\n",
              "\n",
              "    [theme=dark] .colab-df-convert {\n",
              "      background-color: #3B4455;\n",
              "      fill: #D2E3FC;\n",
              "    }\n",
              "\n",
              "    [theme=dark] .colab-df-convert:hover {\n",
              "      background-color: #434B5C;\n",
              "      box-shadow: 0px 1px 3px 1px rgba(0, 0, 0, 0.15);\n",
              "      filter: drop-shadow(0px 1px 2px rgba(0, 0, 0, 0.3));\n",
              "      fill: #FFFFFF;\n",
              "    }\n",
              "  </style>\n",
              "\n",
              "      <script>\n",
              "        const buttonEl =\n",
              "          document.querySelector('#df-65cdb6cc-2aa9-4c8c-a0b5-3a2c2a6ae815 button.colab-df-convert');\n",
              "        buttonEl.style.display =\n",
              "          google.colab.kernel.accessAllowed ? 'block' : 'none';\n",
              "\n",
              "        async function convertToInteractive(key) {\n",
              "          const element = document.querySelector('#df-65cdb6cc-2aa9-4c8c-a0b5-3a2c2a6ae815');\n",
              "          const dataTable =\n",
              "            await google.colab.kernel.invokeFunction('convertToInteractive',\n",
              "                                                     [key], {});\n",
              "          if (!dataTable) return;\n",
              "\n",
              "          const docLinkHtml = 'Like what you see? Visit the ' +\n",
              "            '<a target=\"_blank\" href=https://colab.research.google.com/notebooks/data_table.ipynb>data table notebook</a>'\n",
              "            + ' to learn more about interactive tables.';\n",
              "          element.innerHTML = '';\n",
              "          dataTable['output_type'] = 'display_data';\n",
              "          await google.colab.output.renderOutput(dataTable, element);\n",
              "          const docLink = document.createElement('div');\n",
              "          docLink.innerHTML = docLinkHtml;\n",
              "          element.appendChild(docLink);\n",
              "        }\n",
              "      </script>\n",
              "    </div>\n",
              "  </div>\n",
              "  "
            ]
          },
          "metadata": {},
          "execution_count": 56
        }
      ]
    },
    {
      "cell_type": "code",
      "source": [
        "data.Open.plot()"
      ],
      "metadata": {
        "colab": {
          "base_uri": "https://localhost:8080/",
          "height": 467
        },
        "id": "mKBHGucCt5U2",
        "outputId": "73f5c742-cd8d-4eb4-d3c7-25bf276a1d25"
      },
      "execution_count": null,
      "outputs": [
        {
          "output_type": "execute_result",
          "data": {
            "text/plain": [
              "<Axes: xlabel='Date'>"
            ]
          },
          "metadata": {},
          "execution_count": 57
        },
        {
          "output_type": "display_data",
          "data": {
            "text/plain": [
              "<Figure size 640x480 with 1 Axes>"
            ],
            "image/png": "[encoded data removed]"
          },
          "metadata": {}
        }
      ]
    },
    {
      "cell_type": "markdown",
      "source": [
        "Here is the graph of the stock of google, I am going to use data before 2019 as the training data, the rest as the test data."
      ],
      "metadata": {
        "id": "YRhUiBk-uWXq"
      }
    },
    {
      "cell_type": "code",
      "source": [
        "Y_train = data[:'2019'].iloc[:,0:1]\n",
        "Y_test = data['2019':].iloc[:,0:1]\n"
      ],
      "metadata": {
        "id": "R9qqQWwwuDOu"
      },
      "execution_count": null,
      "outputs": []
    },
    {
      "cell_type": "code",
      "source": [
        "x_train = data[:'2019'].iloc[:,1:]\n",
        "x_test = data['2019':].iloc[:,1:]"
      ],
      "metadata": {
        "id": "yj1S8SHPTxi_"
      },
      "execution_count": null,
      "outputs": []
    },
    {
      "cell_type": "markdown",
      "source": [
        "First, the model I proposed is a Linear Regression Model: \n",
        "$ Y = \\beta_0 + \\beta_1 X_1 + \\beta_2 X_2 + \\beta_3 X_3 + \\beta_4 X_4 + \\beta_5 X_5 + \\beta_6 X_6 + \\beta_7 X_7 + \\beta_8 X_8 $\n",
        "where $X_1$ is the volume of trading for google stock, $X_2$ is the CPI, $X_3$ is the Core CPI, $X_4$ is the GDP, $X_5$ is the unemployment rate, $X_6$ is the m1, $X_7$ is the federal funds rate, $X_8$ is the M2, and $Y$ is the google stock open price."
      ],
      "metadata": {
        "id": "Ilee7wIJwRag"
      }
    },
    {
      "cell_type": "code",
      "source": [
        "import statsmodels.api as sm\n",
        "\n",
        "X_train = sm.add_constant(x_train)\n",
        "model = sm.OLS(Y_train, X_train).fit()\n",
        "print(model.summary())"
      ],
      "metadata": {
        "colab": {
          "base_uri": "https://localhost:8080/"
        },
        "id": "ylwVwypaUQUa",
        "outputId": "39f25f33-4652-4073-beb6-aa729792d95c"
      },
      "execution_count": null,
      "outputs": [
        {
          "output_type": "stream",
          "name": "stdout",
          "text": [
            "                            OLS Regression Results                            \n",
            "==============================================================================\n",
            "Dep. Variable:                   Open   R-squared:                       0.967\n",
            "Model:                            OLS   Adj. R-squared:                  0.965\n",
            "Method:                 Least Squares   F-statistic:                     588.7\n",
            "Date:                Fri, 28 Apr 2023   Prob (F-statistic):          4.85e-116\n",
            "Time:                        15:46:29   Log-Likelihood:                -412.69\n",
            "No. Observations:                 172   AIC:                             843.4\n",
            "Df Residuals:                     163   BIC:                             871.7\n",
            "Df Model:                           8                                         \n",
            "Covariance Type:            nonrobust                                         \n",
            "=====================================================================================\n",
            "                        coef    std err          t      P>|t|      [0.025      0.975]\n",
            "-------------------------------------------------------------------------------------\n",
            "const              -154.8020     60.253     -2.569      0.011    -273.778     -35.826\n",
            "Volume             6.171e-10   1.49e-10      4.133      0.000    3.22e-10    9.12e-10\n",
            "CPI                  -4.0820      0.672     -6.076      0.000      -5.409      -2.756\n",
            "Core CPI              0.8608      0.488      1.765      0.079      -0.102       1.824\n",
            "gdp                  -0.0024      0.002     -1.280      0.202      -0.006       0.001\n",
            "Unemployment_rate    -1.7108      0.509     -3.363      0.001      -2.715      -0.706\n",
            "m1                   -0.0070      0.005     -1.418      0.158      -0.017       0.003\n",
            "DFF                   2.4756      0.323      7.653      0.000       1.837       3.114\n",
            "M2                    0.0051      0.004      1.343      0.181      -0.002       0.012\n",
            "==============================================================================\n",
            "Omnibus:                       12.867   Durbin-Watson:                   0.498\n",
            "Prob(Omnibus):                  0.002   Jarque-Bera (JB):               13.697\n",
            "Skew:                           0.609   Prob(JB):                      0.00106\n",
            "Kurtosis:                       3.655   Cond. No.                     1.23e+12\n",
            "==============================================================================\n",
            "\n",
            "Notes:\n",
            "[1] Standard Errors assume that the covariance matrix of the errors is correctly specified.\n",
            "[2] The condition number is large, 1.23e+12. This might indicate that there are\n",
            "strong multicollinearity or other numerical problems.\n"
          ]
        }
      ]
    },
    {
      "cell_type": "code",
      "source": [
        "pred = model.predict(X_train)\n",
        "\n",
        "from sklearn.metrics import mean_squared_error, mean_absolute_error\n",
        "\n",
        "mse = mean_squared_error(Y_train, pred)\n",
        "print(f\"Mean Squared Error: {mse}\")\n",
        "mae = mean_absolute_error(Y_train, pred)\n",
        "print(f\"Mean Absolute Error: {mae}\")"
      ],
      "metadata": {
        "colab": {
          "base_uri": "https://localhost:8080/"
        },
        "id": "KLsKs7NhiJWx",
        "outputId": "d9631435-3261-441a-a301-c90f56780348"
      },
      "execution_count": null,
      "outputs": [
        {
          "output_type": "stream",
          "name": "stdout",
          "text": [
            "Mean Squared Error: 7.105081745472227\n",
            "Mean Absolute Error: 2.089995759177739\n"
          ]
        }
      ]
    },
    {
      "cell_type": "markdown",
      "source": [
        "## Model Interpretation\n",
        "\n",
        "* The R-squared value is 0.967, which indicates that 96.7% of the variation in Y can be explained by the independent variables in the model. Meanwhile, the MSE and MAE are samll,it suggests a good fit of the model.\n",
        "\n",
        "* The probability associated with the F-statistic is 4.85e-116, which is very close to 0. This indicates that the null hypothesis (all coefficients are equal to zero) can be rejected, and the model is statistically significant.\n",
        "\n",
        "* According to the t-test, the significant variables at a 5% significance level are volumne,CPI, unemployment rate, and federal funds rate. While core CPI, GDP, m1 and m2 are not significant.\n",
        "\n",
        "\n",
        "\n",
        "\n"
      ],
      "metadata": {
        "id": "nNnTEuzfcccw"
      }
    },
    {
      "cell_type": "markdown",
      "source": [
        "The model is: $ Y = -154.8 + 6*10^{-10} X_1- 4.08 X_2 + 0.86 X_3 - 0.0024 X_4 -1.71 X_5 - 0.007 X_6 + 2.48 X_7 + 0.005 X_8 $"
      ],
      "metadata": {
        "id": "hUsTQ7lOd8lE"
      }
    },
    {
      "cell_type": "code",
      "source": [
        "X_test = sm.add_constant(x_test)\n",
        "pred = model.predict(X_test)\n",
        "\n",
        "from sklearn.metrics import mean_squared_error, mean_absolute_error\n",
        "\n",
        "mse = mean_squared_error(Y_test, pred)\n",
        "print(f\"Mean Squared Error: {mse}\")\n",
        "mae = mean_absolute_error(Y_test, pred)\n",
        "print(f\"Mean Absolute Error: {mae}\")"
      ],
      "metadata": {
        "colab": {
          "base_uri": "https://localhost:8080/"
        },
        "id": "t1zAh8q0VyzR",
        "outputId": "17841441-4d08-4fe6-f69b-29a6f8ac12c1"
      },
      "execution_count": null,
      "outputs": [
        {
          "output_type": "stream",
          "name": "stdout",
          "text": [
            "Mean Squared Error: 11778.844690950238\n",
            "Mean Absolute Error: 89.715012416301\n"
          ]
        }
      ]
    },
    {
      "cell_type": "markdown",
      "source": [
        "The MSE indicates that the model did not do well for the test data. "
      ],
      "metadata": {
        "id": "ZqXM_arEe7DH"
      }
    },
    {
      "cell_type": "code",
      "source": [
        "fig = plt.figure(figsize = (10,4))\n",
        "pred_df = pd.DataFrame(pred).merge(Y_test,left_index = True,right_index = True)\n",
        "plt.plot(pred_df.iloc[:,0],label = 'Prediction')\n",
        "plt.plot(pred_df.iloc[:,1],label = 'Test Data')\n",
        "plt.title('Prediction for Google Stock from 2019 to 2023')\n",
        "plt.xticks(rotation=90)\n",
        "plt.legend()\n",
        "plt.show()\n"
      ],
      "metadata": {
        "colab": {
          "base_uri": "https://localhost:8080/",
          "height": 457
        },
        "id": "x84wNpMqXoqW",
        "outputId": "e6070086-2329-4e6c-9992-8621eb90c4eb"
      },
      "execution_count": null,
      "outputs": [
        {
          "output_type": "display_data",
          "data": {
            "text/plain": [
              "<Figure size 1000x400 with 1 Axes>"
            ],
            "image/png": "[encoded data removed]"
          },
          "metadata": {}
        }
      ]
    },
    {
      "cell_type": "markdown",
      "source": [
        "# Conclusion\n",
        "The Linear Regression model fits the training data well but not for the test data. This may due to high variance in stock market and high correlation between nearby stock price, for example, today's stock price is highly influenced by yesterday's stock price. That may lead to lower correlation between other variables and the stock price."
      ],
      "metadata": {
        "id": "TD5Hkpl0i7oZ"
      }
    },
    {
      "cell_type": "code",
      "source": [],
      "metadata": {
        "id": "D9qgHglgj3fY"
      },
      "execution_count": null,
      "outputs": []
    }
  ]
}