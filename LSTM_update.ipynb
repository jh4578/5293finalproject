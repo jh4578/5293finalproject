{
  "nbformat": 4,
  "nbformat_minor": 0,
  "metadata": {
    "colab": {
      "provenance": []
    },
    "kernelspec": {
      "name": "python3",
      "display_name": "Python 3"
    },
    "language_info": {
      "name": "python"
    }
  },
  "cells": [
    {
      "cell_type": "markdown",
      "source": [
        "# Model3"
      ],
      "metadata": {
        "id": "7AWA0wbltnLo"
      }
    },
    {
      "cell_type": "markdown",
      "source": [
        "## Long Short-Term Memory"
      ],
      "metadata": {
        "id": "nUS31DwEaeLo"
      }
    },
    {
      "cell_type": "markdown",
      "source": [
        "An LSTM (Long Short-Term Memory) is a type of artificial neural network that can remember patterns or sequences over a long period of time. Imagine you're trying to understand a story that someone is telling you, word by word. To make sense of the story, you need to remember not just the current word but also the words that came before it. This is similar to what an LSTM does.\n",
        "\n",
        "Think of an LSTM as a series of connected \"memory cells,\" each cell responsible for remembering a part of the sequence. As information passes through these cells, they can \"learn\" which parts are important and should be remembered, and which parts can be forgotten. This is useful when dealing with data that has a time component, like speech, music, or a series of text messages."
      ],
      "metadata": {
        "id": "lT9Q8XeD-2BO"
      }
    },
    {
      "cell_type": "markdown",
      "source": [
        "![3](<https://raw.githubusercontent.com/jh4578/5293finalproject/main/_build/html/_images/LSTM3.webp>)"
      ],
      "metadata": {
        "id": "9SHUt265rhp6"
      }
    },
    {
      "cell_type": "markdown",
      "source": [
        "![2](<https://raw.githubusercontent.com/jh4578/5293finalproject/main/_build/html/_images/LSTM2.webp>)"
      ],
      "metadata": {
        "id": "b9IhENDAredn"
      }
    },
    {
      "cell_type": "markdown",
      "source": [
        "Although it looks complex, you will easily understand it with one example. \n",
        "Suppose we are going to take a sequence of exams: high school math --> Calculus --> Linear Algebra --> … At this point, we just finished our high school math exam, and we are studying for the Calculus exam. \n",
        " \n",
        "The memory we have right now is $C_{t-1}$ in the left corner, it includes plenty of knowledge related to high school math. $h_{t-1}$ in the left bottom represents ourselves, $X_t$ represents the textbooks of Calculus. \n",
        "\n",
        "When we read the Calculus textbooks ($h_{t-1}$ and $X_t$ merge), we realized that some of our memory is irrelevant to Calculus, such as geometry. Since our memory space is limited, we need to forget that irrelevant knowledge, which is shown by the forget gate $f_t$. \n",
        " \n",
        "Then we discover some Calculus information, and we need to memorize it. Again, since our memory space is limited, we don’t want to learn knowledge irrelevant to the exam, such as the history of Calculus. That’s what the yellow tanh and $i_t$ do. $i_t$ takes charge of learning knowledge, while tanh filters the relevant knowledge. \n",
        " \n",
        "Finally, we are going to take the exam. In the exam, we need to grab specific knowledge (not all knowledge) from our memory to solve specific questions. That’s how the red tanh work, it filters our memory and grabs specific knowledge. After we finished the exam, we will receive an output score h_t in the upper right corner. We can use that score to check how good is our study process. Also, we will pass our memory $C_t$ to the next cell. "
      ],
      "metadata": {
        "id": "sMnbutD1ADqw"
      }
    },
    {
      "cell_type": "code",
      "execution_count": null,
      "metadata": {
        "id": "OoHmyVAmhIzr"
      },
      "outputs": [],
      "source": [
        "import pandas as pd\n",
        "import yfinance as yf\n",
        "import numpy as np\n",
        "from matplotlib import pyplot as plt"
      ]
    },
    {
      "cell_type": "code",
      "source": [
        "data = pd.read_csv('https://raw.githubusercontent.com/jh4578/5293finalproject/main/GOOG_update.csv',date_parser = True)"
      ],
      "metadata": {
        "id": "cj0yNk5ml82p"
      },
      "execution_count": null,
      "outputs": []
    },
    {
      "cell_type": "code",
      "source": [
        "data.index = data['Date']\n",
        "data.drop(columns = ['Date','High','Low','Close','Adj Close'], inplace = True)\n"
      ],
      "metadata": {
        "id": "OPq3I_3qk8B0"
      },
      "execution_count": null,
      "outputs": []
    },
    {
      "cell_type": "code",
      "source": [
        "data.head()"
      ],
      "metadata": {
        "colab": {
          "base_uri": "https://localhost:8080/",
          "height": 237
        },
        "id": "yTKBvIuGn0Ln",
        "outputId": "50d525b6-7413-442a-b1a2-bc5d95d19b14"
      },
      "execution_count": null,
      "outputs": [
        {
          "output_type": "execute_result",
          "data": {
            "text/plain": [
              "                Open       Volume       CPI  Core CPI        gdp  \\\n",
              "Date                                                               \n",
              "2004-09-01  2.557912   4270113667  2.240201     197.5  12305.307   \n",
              "2004-10-01  3.257789  10321258145  2.237219     197.9  12305.307   \n",
              "2004-11-01  4.820681  11145383635  2.301213     198.3  12305.307   \n",
              "2004-12-01  4.531764   5835483147  2.313886     198.6  12527.214   \n",
              "2005-01-01  4.916571   8237356337  2.315890     199.0  12527.214   \n",
              "\n",
              "            Unemployment_rate        m1       DFF        M2  \n",
              "Date                                                         \n",
              "2004-09-01                5.4  1343.475  1.605000  6337.150  \n",
              "2004-10-01                5.5  1348.975  1.760968  6351.475  \n",
              "2004-11-01                5.4  1373.940  1.932000  6395.220  \n",
              "2004-12-01                5.4  1390.450  2.156129  6448.450  \n",
              "2005-01-01                5.3  1374.700  2.279355  6407.200  "
            ],
            "text/html": [
              "\n",
              "  <div id=\"df-a34f84c8-1b65-4b8a-85f8-ecb2961d5194\">\n",
              "    <div class=\"colab-df-container\">\n",
              "      <div>\n",
              "<style scoped>\n",
              "    .dataframe tbody tr th:only-of-type {\n",
              "        vertical-align: middle;\n",
              "    }\n",
              "\n",
              "    .dataframe tbody tr th {\n",
              "        vertical-align: top;\n",
              "    }\n",
              "\n",
              "    .dataframe thead th {\n",
              "        text-align: right;\n",
              "    }\n",
              "</style>\n",
              "<table border=\"1\" class=\"dataframe\">\n",
              "  <thead>\n",
              "    <tr style=\"text-align: right;\">\n",
              "      <th></th>\n",
              "      <th>Open</th>\n",
              "      <th>Volume</th>\n",
              "      <th>CPI</th>\n",
              "      <th>Core CPI</th>\n",
              "      <th>gdp</th>\n",
              "      <th>Unemployment_rate</th>\n",
              "      <th>m1</th>\n",
              "      <th>DFF</th>\n",
              "      <th>M2</th>\n",
              "    </tr>\n",
              "    <tr>\n",
              "      <th>Date</th>\n",
              "      <th></th>\n",
              "      <th></th>\n",
              "      <th></th>\n",
              "      <th></th>\n",
              "      <th></th>\n",
              "      <th></th>\n",
              "      <th></th>\n",
              "      <th></th>\n",
              "      <th></th>\n",
              "    </tr>\n",
              "  </thead>\n",
              "  <tbody>\n",
              "    <tr>\n",
              "      <th>2004-09-01</th>\n",
              "      <td>2.557912</td>\n",
              "      <td>4270113667</td>\n",
              "      <td>2.240201</td>\n",
              "      <td>197.5</td>\n",
              "      <td>12305.307</td>\n",
              "      <td>5.4</td>\n",
              "      <td>1343.475</td>\n",
              "      <td>1.605000</td>\n",
              "      <td>6337.150</td>\n",
              "    </tr>\n",
              "    <tr>\n",
              "      <th>2004-10-01</th>\n",
              "      <td>3.257789</td>\n",
              "      <td>10321258145</td>\n",
              "      <td>2.237219</td>\n",
              "      <td>197.9</td>\n",
              "      <td>12305.307</td>\n",
              "      <td>5.5</td>\n",
              "      <td>1348.975</td>\n",
              "      <td>1.760968</td>\n",
              "      <td>6351.475</td>\n",
              "    </tr>\n",
              "    <tr>\n",
              "      <th>2004-11-01</th>\n",
              "      <td>4.820681</td>\n",
              "      <td>11145383635</td>\n",
              "      <td>2.301213</td>\n",
              "      <td>198.3</td>\n",
              "      <td>12305.307</td>\n",
              "      <td>5.4</td>\n",
              "      <td>1373.940</td>\n",
              "      <td>1.932000</td>\n",
              "      <td>6395.220</td>\n",
              "    </tr>\n",
              "    <tr>\n",
              "      <th>2004-12-01</th>\n",
              "      <td>4.531764</td>\n",
              "      <td>5835483147</td>\n",
              "      <td>2.313886</td>\n",
              "      <td>198.6</td>\n",
              "      <td>12527.214</td>\n",
              "      <td>5.4</td>\n",
              "      <td>1390.450</td>\n",
              "      <td>2.156129</td>\n",
              "      <td>6448.450</td>\n",
              "    </tr>\n",
              "    <tr>\n",
              "      <th>2005-01-01</th>\n",
              "      <td>4.916571</td>\n",
              "      <td>8237356337</td>\n",
              "      <td>2.315890</td>\n",
              "      <td>199.0</td>\n",
              "      <td>12527.214</td>\n",
              "      <td>5.3</td>\n",
              "      <td>1374.700</td>\n",
              "      <td>2.279355</td>\n",
              "      <td>6407.200</td>\n",
              "    </tr>\n",
              "  </tbody>\n",
              "</table>\n",
              "</div>\n",
              "      <button class=\"colab-df-convert\" onclick=\"convertToInteractive('df-a34f84c8-1b65-4b8a-85f8-ecb2961d5194')\"\n",
              "              title=\"Convert this dataframe to an interactive table.\"\n",
              "              style=\"display:none;\">\n",
              "        \n",
              "  <svg xmlns=\"http://www.w3.org/2000/svg\" height=\"24px\"viewBox=\"0 0 24 24\"\n",
              "       width=\"24px\">\n",
              "    <path d=\"M0 0h24v24H0V0z\" fill=\"none\"/>\n",
              "    <path d=\"M18.56 5.44l.94 2.06.94-2.06 2.06-.94-2.06-.94-.94-2.06-.94 2.06-2.06.94zm-11 1L8.5 8.5l.94-2.06 2.06-.94-2.06-.94L8.5 2.5l-.94 2.06-2.06.94zm10 10l.94 2.06.94-2.06 2.06-.94-2.06-.94-.94-2.06-.94 2.06-2.06.94z\"/><path d=\"M17.41 7.96l-1.37-1.37c-.4-.4-.92-.59-1.43-.59-.52 0-1.04.2-1.43.59L10.3 9.45l-7.72 7.72c-.78.78-.78 2.05 0 2.83L4 21.41c.39.39.9.59 1.41.59.51 0 1.02-.2 1.41-.59l7.78-7.78 2.81-2.81c.8-.78.8-2.07 0-2.86zM5.41 20L4 18.59l7.72-7.72 1.47 1.35L5.41 20z\"/>\n",
              "  </svg>\n",
              "      </button>\n",
              "      \n",
              "  <style>\n",
              "    .colab-df-container {\n",
              "      display:flex;\n",
              "      flex-wrap:wrap;\n",
              "      gap: 12px;\n",
              "    }\n",
              "\n",
              "    .colab-df-convert {\n",
              "      background-color: #E8F0FE;\n",
              "      border: none;\n",
              "      border-radius: 50%;\n",
              "      cursor: pointer;\n",
              "      display: none;\n",
              "      fill: #1967D2;\n",
              "      height: 32px;\n",
              "      padding: 0 0 0 0;\n",
              "      width: 32px;\n",
              "    }\n",
              "\n",
              "    .colab-df-convert:hover {\n",
              "      background-color: #E2EBFA;\n",
              "      box-shadow: 0px 1px 2px rgba(60, 64, 67, 0.3), 0px 1px 3px 1px rgba(60, 64, 67, 0.15);\n",
              "      fill: #174EA6;\n",
              "    }\n",
              "\n",
              "    [theme=dark] .colab-df-convert {\n",
              "      background-color: #3B4455;\n",
              "      fill: #D2E3FC;\n",
              "    }\n",
              "\n",
              "    [theme=dark] .colab-df-convert:hover {\n",
              "      background-color: #434B5C;\n",
              "      box-shadow: 0px 1px 3px 1px rgba(0, 0, 0, 0.15);\n",
              "      filter: drop-shadow(0px 1px 2px rgba(0, 0, 0, 0.3));\n",
              "      fill: #FFFFFF;\n",
              "    }\n",
              "  </style>\n",
              "\n",
              "      <script>\n",
              "        const buttonEl =\n",
              "          document.querySelector('#df-a34f84c8-1b65-4b8a-85f8-ecb2961d5194 button.colab-df-convert');\n",
              "        buttonEl.style.display =\n",
              "          google.colab.kernel.accessAllowed ? 'block' : 'none';\n",
              "\n",
              "        async function convertToInteractive(key) {\n",
              "          const element = document.querySelector('#df-a34f84c8-1b65-4b8a-85f8-ecb2961d5194');\n",
              "          const dataTable =\n",
              "            await google.colab.kernel.invokeFunction('convertToInteractive',\n",
              "                                                     [key], {});\n",
              "          if (!dataTable) return;\n",
              "\n",
              "          const docLinkHtml = 'Like what you see? Visit the ' +\n",
              "            '<a target=\"_blank\" href=https://colab.research.google.com/notebooks/data_table.ipynb>data table notebook</a>'\n",
              "            + ' to learn more about interactive tables.';\n",
              "          element.innerHTML = '';\n",
              "          dataTable['output_type'] = 'display_data';\n",
              "          await google.colab.output.renderOutput(dataTable, element);\n",
              "          const docLink = document.createElement('div');\n",
              "          docLink.innerHTML = docLinkHtml;\n",
              "          element.appendChild(docLink);\n",
              "        }\n",
              "      </script>\n",
              "    </div>\n",
              "  </div>\n",
              "  "
            ]
          },
          "metadata": {},
          "execution_count": 4
        }
      ]
    },
    {
      "cell_type": "markdown",
      "source": [
        "Here we define a function organize train and test data set. We will use the data from 2004 to 2019 to train the model and the other used for test. "
      ],
      "metadata": {
        "id": "Hwps0qScGdsU"
      }
    },
    {
      "cell_type": "code",
      "source": [
        "import numpy as np\n",
        "import pandas as pd\n",
        "from sklearn.preprocessing import MinMaxScaler\n",
        "from tensorflow.keras.models import Sequential\n",
        "from tensorflow.keras.layers import LSTM, Dense\n",
        "from tensorflow.keras.optimizers import Adam"
      ],
      "metadata": {
        "id": "YqyOyUSwo2HR"
      },
      "execution_count": null,
      "outputs": []
    },
    {
      "cell_type": "code",
      "source": [
        "scaler = MinMaxScaler()\n",
        "data_scaled = scaler.fit_transform(data)\n",
        "\n",
        "# Define the lookback period and split the data into train and test sets\n",
        "lookback = 3\n",
        "train_size = int(len(data) * 0.7713004484304933)\n",
        "train_data = data_scaled[:train_size]\n",
        "test_data = data_scaled[train_size - lookback:]"
      ],
      "metadata": {
        "id": "9vvZolCko2Ew"
      },
      "execution_count": null,
      "outputs": []
    },
    {
      "cell_type": "code",
      "source": [
        "def create_sequences(data, lookback):\n",
        "    X, Y = [], []\n",
        "    for i in range(lookback, len(data)):\n",
        "        X.append(data[i - lookback:i])\n",
        "        Y.append(data[i, 0])\n",
        "    return np.array(X), np.array(Y)\n",
        "\n",
        "X_train, Y_train = create_sequences(train_data, lookback)\n",
        "X_test, Y_test = create_sequences(test_data, lookback)"
      ],
      "metadata": {
        "id": "aNQzZQdno2B_"
      },
      "execution_count": null,
      "outputs": []
    },
    {
      "cell_type": "code",
      "source": [
        "# Build the LSTM model\n",
        "model = Sequential([\n",
        "    LSTM(units=50, activation='relu', input_shape=(lookback, data.shape[1])),\n",
        "    Dense(1)\n",
        "])\n",
        "\n",
        "# Compile the model\n",
        "model.compile(optimizer=Adam(learning_rate=0.001), loss='mean_squared_error')\n",
        "\n",
        "# Train the model\n",
        "model.fit(X_train, Y_train, epochs=100, batch_size=32, validation_split=0.1, verbose=1)\n"
      ],
      "metadata": {
        "id": "BaJH8Zouo1_Y"
      },
      "execution_count": null,
      "outputs": []
    },
    {
      "cell_type": "code",
      "source": [
        "from sklearn.metrics import mean_squared_error, mean_absolute_error\n",
        "# Make predictions\n",
        "Y_train_pred = model.predict(X_train)\n",
        "Y_test_pred = model.predict(X_test)\n",
        "\n",
        "# Invert the normalization\n",
        "Y_train_pred = scaler.inverse_transform(np.hstack([Y_train_pred, train_data[lookback:, 1:]]))[:, 0]\n",
        "Y_test_pred = scaler.inverse_transform(np.hstack([Y_test_pred, test_data[lookback:, 1:]]))[:, 0]\n",
        "Y_train_actual = scaler.inverse_transform(train_data[lookback:])[:, 0]\n",
        "Y_test_actual = scaler.inverse_transform(test_data[lookback:])[:, 0]\n",
        "\n",
        "# Calculate the Mean Squared Error (MSE)\n",
        "mse_train = mean_squared_error(Y_train_actual, Y_train_pred)\n",
        "mse_test = mean_squared_error(Y_test_actual, Y_test_pred)\n",
        "print(f\"Train MSE: {mse_train:.4f}\")\n",
        "print(f\"Test MSE: {mse_test:.4f}\")\n",
        "\n",
        "# Calculate the Mean Absolute Error (MAE)\n",
        "mae_train = mean_absolute_error(Y_train_actual, Y_train_pred)\n",
        "mae_test = mean_absolute_error(Y_test_actual, Y_test_pred)\n",
        "print(f\"Train MAE: {mae_train:.4f}\")\n",
        "print(f\"Test MAE: {mae_test:.4f}\")"
      ],
      "metadata": {
        "colab": {
          "base_uri": "https://localhost:8080/"
        },
        "id": "_TVTb3iBo18z",
        "outputId": "321f3144-cc8e-48a2-cadf-bac5c21a3f9f"
      },
      "execution_count": null,
      "outputs": [
        {
          "output_type": "stream",
          "name": "stdout",
          "text": [
            "6/6 [==============================] - 0s 5ms/step\n",
            "2/2 [==============================] - 0s 5ms/step\n",
            "Train MSE: 3.5094\n",
            "Test MSE: 374.8578\n",
            "Train MAE: 1.3293\n",
            "Test MAE: 14.6765\n"
          ]
        }
      ]
    },
    {
      "cell_type": "markdown",
      "source": [
        "Here both the MSE and MAE for both training data and testing data are smaller than the MSE of the other two models, which indicates a better of fit."
      ],
      "metadata": {
        "id": "aV5KjhnLvtML"
      }
    },
    {
      "cell_type": "code",
      "source": [
        "def actual_pred_plot(preds):\n",
        "    actual_pred = pd.DataFrame(columns = ['Open', 'prediction'])\n",
        "    actual_pred['Open'] = data.loc['2019':,'Open'][0:len(preds)]\n",
        "    actual_pred['prediction'] = preds[:,0]\n",
        "\n",
        "    from keras.metrics import MeanSquaredError\n",
        "    m = MeanSquaredError()\n",
        "    m.update_state(np.array(actual_pred['Open']),np.array(actual_pred['prediction']))\n",
        "    \n",
        "    return (m.result().numpy(), actual_pred.plot() )"
      ],
      "metadata": {
        "id": "Zk_U3cdot8m9"
      },
      "execution_count": null,
      "outputs": []
    },
    {
      "cell_type": "code",
      "source": [
        "pred = Y_test_pred.reshape(-1,1)\n",
        "actual_pred_plot(pred)"
      ],
      "metadata": {
        "colab": {
          "base_uri": "https://localhost:8080/",
          "height": 467
        },
        "id": "SUxgji7no16L",
        "outputId": "560adfbe-c3f4-439c-fb1b-7094de88c492"
      },
      "execution_count": null,
      "outputs": [
        {
          "output_type": "execute_result",
          "data": {
            "text/plain": [
              "(374.85776, <Axes: xlabel='Date'>)"
            ]
          },
          "metadata": {},
          "execution_count": 34
        },
        {
          "output_type": "display_data",
          "data": {
            "text/plain": [
              "<Figure size 640x480 with 1 Axes>"
            ],
            "image/png": "[encoded data removed]"
          },
          "metadata": {}
        }
      ]
    },
    {
      "cell_type": "markdown",
      "source": [
        "## Model Interpretation"
      ],
      "metadata": {
        "id": "blrPE9oLwRDW"
      }
    },
    {
      "cell_type": "markdown",
      "source": [
        "LSTM is not a interpretable model, so I am going to use SHAP(SHapley Additive exPlanations) to approximate the contributions of each feature to the model's predictions for this model and data."
      ],
      "metadata": {
        "id": "2V74mx50yIBP"
      }
    },
    {
      "cell_type": "code",
      "source": [
        "!pip install shap"
      ],
      "metadata": {
        "id": "-ReKt-OswuNj"
      },
      "execution_count": null,
      "outputs": []
    },
    {
      "cell_type": "code",
      "source": [
        "import shap"
      ],
      "metadata": {
        "id": "jCorXqdh67E4"
      },
      "execution_count": null,
      "outputs": []
    },
    {
      "cell_type": "code",
      "source": [
        "def lstm_flatten_input(X):\n",
        "    n_samples = X.shape[0]\n",
        "    X_flat = X.reshape(n_samples, -1)\n",
        "    return X_flat\n",
        "\n"
      ],
      "metadata": {
        "id": "IkWIVAzqxTmM"
      },
      "execution_count": null,
      "outputs": []
    },
    {
      "cell_type": "code",
      "source": [
        "X_train_flat = lstm_flatten_input(X_train)\n",
        "X_test_flat = lstm_flatten_input(X_test)\n",
        "\n",
        "def model_wrapper(X_flat):\n",
        "    X = X_flat.reshape((-1, lookback, data.shape[1]))\n",
        "    return model.predict(X)\n",
        "\n",
        "explainer = shap.KernelExplainer(model_wrapper, X_train_flat[:100])\n"
      ],
      "metadata": {
        "colab": {
          "base_uri": "https://localhost:8080/"
        },
        "id": "uOP_coAZxTj0",
        "outputId": "4798fadd-0a58-4d87-e6ba-854d837dd038"
      },
      "execution_count": null,
      "outputs": [
        {
          "output_type": "stream",
          "name": "stdout",
          "text": [
            "4/4 [==============================] - 0s 3ms/step\n"
          ]
        }
      ]
    },
    {
      "cell_type": "code",
      "source": [
        "# Compute SHAP values for the test data\n",
        "shap_values = explainer.shap_values(X_test_flat, nsamples=50)\n",
        "shap_values = np.array(shap_values)\n",
        "shap_values = shap_values.reshape((-1, lookback, data.shape[1]))\n",
        "mean_shap_values = np.mean(np.sum(np.abs(shap_values), axis=1), axis=0)"
      ],
      "metadata": {
        "id": "64ydYc4mxThc"
      },
      "execution_count": null,
      "outputs": []
    },
    {
      "cell_type": "code",
      "source": [
        "features = ['Open', 'Volume', 'CPI', 'Core CPI', 'gdp', 'Unemployment_rate', 'm1', 'DFF', 'M2']\n",
        "y_pos = np.arange(len(features))\n",
        "plt.barh(y_pos, mean_shap_values, align='center', alpha=0.5)\n",
        "plt.yticks(y_pos, features)\n",
        "plt.xlabel('Mean SHAP Value')\n",
        "plt.title('Feature Importance')\n",
        "plt.show()"
      ],
      "metadata": {
        "colab": {
          "base_uri": "https://localhost:8080/",
          "height": 472
        },
        "id": "nBf4Xz5SxzDY",
        "outputId": "d535b745-07dc-4a93-a117-477229659805"
      },
      "execution_count": null,
      "outputs": [
        {
          "output_type": "display_data",
          "data": {
            "text/plain": [
              "<Figure size 640x480 with 1 Axes>"
            ],
            "image/png": "[encoded data removed]"
          },
          "metadata": {}
        }
      ]
    },
    {
      "cell_type": "markdown",
      "source": [
        "According to the plot: M2, previous stock price, and GDP are the top three features correlated with future stock prices. On the other hand, CPI, unemployment rate and federal funds rate are not significant variables to predict the Google stock price."
      ],
      "metadata": {
        "id": "7S-gmwPNzv6M"
      }
    },
    {
      "cell_type": "markdown",
      "source": [
        "# Conclusion\n",
        "\n",
        "LSTM fits the data better than SARIMAX and Linear Regression. That is because LSTM used both previous stock price and other features to make predictions, while LR does not focus on the correlation between nearby stock price and SARIMAX focus more on the correlations. \n",
        "\n",
        "However, LSTM is still far from perfect, future adjustments are needed to improve the fit."
      ],
      "metadata": {
        "id": "0q6-AJkJ1q8O"
      }
    },
    {
      "cell_type": "markdown",
      "source": [
        "## Reference\n",
        "\n",
        "https://colah.github.io/posts/2015-08-Understanding-LSTMs/\n"
      ],
      "metadata": {
        "id": "yYobsGcr3b-5"
      }
    },
    {
      "cell_type": "code",
      "source": [],
      "metadata": {
        "id": "5kRU8Uvoxzmt"
      },
      "execution_count": null,
      "outputs": []
    }
  ]
}