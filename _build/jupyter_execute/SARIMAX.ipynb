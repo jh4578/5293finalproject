{
 "cells": [
  {
   "cell_type": "markdown",
   "metadata": {
    "id": "8egIu7MKw4Af"
   },
   "source": [
    "# Model2"
   ]
  },
  {
   "cell_type": "markdown",
   "metadata": {
    "id": "YJyUhzEdax5a"
   },
   "source": [
    "## Seasonal AutoRegressive Integrated Moving Average with Exogenous Regressors (SARIMAX)"
   ]
  },
  {
   "cell_type": "code",
   "execution_count": 1,
   "metadata": {
    "id": "xm1oSyxJtny9"
   },
   "outputs": [
    {
     "ename": "ModuleNotFoundError",
     "evalue": "No module named 'pandas'",
     "output_type": "error",
     "traceback": [
      "\u001b[0;31m---------------------------------------------------------------------------\u001b[0m",
      "\u001b[0;31mModuleNotFoundError\u001b[0m                       Traceback (most recent call last)",
      "Cell \u001b[0;32mIn[1], line 1\u001b[0m\n\u001b[0;32m----> 1\u001b[0m \u001b[38;5;28;01mimport\u001b[39;00m \u001b[38;5;21;01mpandas\u001b[39;00m \u001b[38;5;28;01mas\u001b[39;00m \u001b[38;5;21;01mpd\u001b[39;00m\n\u001b[1;32m      2\u001b[0m \u001b[38;5;28;01mimport\u001b[39;00m \u001b[38;5;21;01myfinance\u001b[39;00m \u001b[38;5;28;01mas\u001b[39;00m \u001b[38;5;21;01myf\u001b[39;00m\n\u001b[1;32m      3\u001b[0m \u001b[38;5;28;01mimport\u001b[39;00m \u001b[38;5;21;01mnumpy\u001b[39;00m \u001b[38;5;28;01mas\u001b[39;00m \u001b[38;5;21;01mnp\u001b[39;00m\n",
      "\u001b[0;31mModuleNotFoundError\u001b[0m: No module named 'pandas'"
     ]
    }
   ],
   "source": [
    "import pandas as pd\n",
    "import yfinance as yf\n",
    "import numpy as np\n",
    "from matplotlib import pyplot as plt\n",
    "from statsmodels.tsa.arima.model import ARIMA"
   ]
  },
  {
   "cell_type": "code",
   "execution_count": 2,
   "metadata": {
    "id": "F6eU2HlTtwNS"
   },
   "outputs": [],
   "source": [
    "data = pd.read_csv('https://raw.githubusercontent.com/jh4578/5293finalproject/main/GOOG_update.csv',date_parser = True)"
   ]
  },
  {
   "cell_type": "code",
   "execution_count": 3,
   "metadata": {
    "id": "Mw_wxab-tyQA"
   },
   "outputs": [],
   "source": [
    "data.index = data['Date']\n",
    "data.drop(columns = ['Date','High','Low','Close','Adj Close'], inplace = True)"
   ]
  },
  {
   "cell_type": "markdown",
   "metadata": {
    "id": "YRhUiBk-uWXq"
   },
   "source": [
    "Here is the graph of the stock of google, I am going to use data before 2019 as the training data, the rest as the test data."
   ]
  },
  {
   "cell_type": "code",
   "execution_count": 8,
   "metadata": {
    "id": "R9qqQWwwuDOu"
   },
   "outputs": [],
   "source": [
    "data_train = data[:'2019']\n",
    "data_test = data['2019':]"
   ]
  },
  {
   "cell_type": "code",
   "execution_count": null,
   "metadata": {
    "id": "ckGEihRz4_aZ"
   },
   "outputs": [],
   "source": [
    "from statsmodels.tsa.statespace.sarimax import SARIMAX\n",
    "model = SARIMAX(\n",
    "    data_train['Open'],\n",
    "    exog=data_train.drop('Open', axis=1),\n",
    "    order=(1, 1, 0),       # (p, d, q) for ARIMA\n",
    "    seasonal_order=(0, 0, 0, 0), # (P, D, Q, s) for Seasonal component (no seasonality)\n",
    "    enforce_stationarity=False,\n",
    "    enforce_invertibility=False\n",
    ")"
   ]
  },
  {
   "cell_type": "code",
   "execution_count": null,
   "metadata": {
    "id": "RhOH09mH4_X3"
   },
   "outputs": [],
   "source": [
    "results = model.fit()"
   ]
  },
  {
   "cell_type": "code",
   "execution_count": 16,
   "metadata": {
    "colab": {
     "base_uri": "https://localhost:8080/"
    },
    "id": "kQ_Dko8I5tIF",
    "outputId": "7d71a1d2-da88-4f38-df31-0e127261abaf"
   },
   "outputs": [
    {
     "name": "stdout",
     "output_type": "stream",
     "text": [
      "                               SARIMAX Results                                \n",
      "==============================================================================\n",
      "Dep. Variable:                   Open   No. Observations:                  172\n",
      "Model:               SARIMAX(1, 1, 0)   Log Likelihood                -322.787\n",
      "Date:                Sat, 29 Apr 2023   AIC                            665.574\n",
      "Time:                        16:44:47   BIC                            696.932\n",
      "Sample:                    09-01-2004   HQIC                           678.298\n",
      "                         - 12-01-2018                                         \n",
      "Covariance Type:                  opg                                         \n",
      "=====================================================================================\n",
      "                        coef    std err          z      P>|z|      [0.025      0.975]\n",
      "-------------------------------------------------------------------------------------\n",
      "Volume             9.906e-11   1.56e-10      0.635      0.526   -2.07e-10    4.05e-10\n",
      "CPI                  -2.1516   1.11e-06  -1.94e+06      0.000      -2.152      -2.152\n",
      "Core CPI              0.8994   1.14e-05   7.87e+04      0.000       0.899       0.899\n",
      "gdp                2.333e-06      0.001      0.002      0.999      -0.003       0.003\n",
      "Unemployment_rate     0.7749   2.97e-07   2.61e+06      0.000       0.775       0.775\n",
      "m1                    0.0023      0.003      0.862      0.389      -0.003       0.008\n",
      "DFF                   2.1330   1.56e-06   1.37e+06      0.000       2.133       2.133\n",
      "M2                   -0.0010      0.002     -0.527      0.598      -0.005       0.003\n",
      "ar.L1                -0.0497   7.66e-06  -6485.948      0.000      -0.050      -0.050\n",
      "sigma2                2.6107   4.51e-06   5.79e+05      0.000       2.611       2.611\n",
      "===================================================================================\n",
      "Ljung-Box (L1) (Q):                   0.00   Jarque-Bera (JB):                83.16\n",
      "Prob(Q):                              0.96   Prob(JB):                         0.00\n",
      "Heteroskedasticity (H):               4.38   Skew:                             0.50\n",
      "Prob(H) (two-sided):                  0.00   Kurtosis:                         6.28\n",
      "===================================================================================\n",
      "\n",
      "Warnings:\n",
      "[1] Covariance matrix calculated using the outer product of gradients (complex-step).\n",
      "[2] Covariance matrix is singular or near-singular, with condition number 2.2e+23. Standard errors may be unstable.\n"
     ]
    }
   ],
   "source": [
    "print(results.summary())"
   ]
  },
  {
   "cell_type": "markdown",
   "metadata": {
    "id": "S-S6ctMR7PXW"
   },
   "source": [
    "The coefficients for each of the features, along with their standard errors, z-scores, and p-values, help us understand the impact of each feature on the target variable. For example, 'CPI', 'Core CPI', 'Unemployment_rate', and 'DFF' all have highly significant p-values (close to 0), suggesting that they have strong relationships with the target variable. On the other hand, features like 'Volume', 'gdp', 'm1', and 'M2' have less significant p-values, indicating weaker relationships. The Ljung-Box test statistic (Q) has a high p-value (0.96), which suggests that there is no significant autocorrelation in the residuals, and the Jarque-Bera test shows that the residuals are not normally distributed. The model exhibits heteroskedasticity with a probability of 0.00, which may indicate the presence of volatility in the data."
   ]
  },
  {
   "cell_type": "markdown",
   "metadata": {
    "id": "kENhBont7igM"
   },
   "source": [
    "In the SARIMAX model, the most significant variables influencing the 'Open' stock price are 'CPI', 'Core CPI', 'Unemployment_rate', and 'DFF', with strong negative and positive relationships, respectively. On the other hand, 'Volume', 'gdp', 'm1', and 'M2' demonstrate weak and insignificant relationships with the stock price, indicating that they may not be useful predictors in this model."
   ]
  },
  {
   "cell_type": "code",
   "execution_count": 37,
   "metadata": {
    "id": "MHxm_a894_VV"
   },
   "outputs": [],
   "source": [
    "predictions = results.get_prediction(\n",
    "    start=pd.to_datetime(data_test.index[0]), \n",
    "    end=pd.to_datetime(data_test.index[-1]), \n",
    "    exog=data_test.drop('Open', axis=1)\n",
    ")\n",
    "predicted_mean = predictions.predicted_mean\n"
   ]
  },
  {
   "cell_type": "code",
   "execution_count": 48,
   "metadata": {
    "colab": {
     "base_uri": "https://localhost:8080/"
    },
    "id": "NQC8iNz_4_S3",
    "outputId": "cc33f14a-e458-44e8-d725-4032818361b5"
   },
   "outputs": [
    {
     "name": "stdout",
     "output_type": "stream",
     "text": [
      "MSE 408.7711120633586\n",
      "RMSE: 20.21808873418451\n"
     ]
    }
   ],
   "source": [
    "from sklearn.metrics import mean_squared_error\n",
    "import numpy as np\n",
    "\n",
    "mse = mean_squared_error(data_test['Open'], predicted_mean)\n",
    "rmse = np.sqrt(mse)\n",
    "print('MSE',mse)\n",
    "print(\"RMSE:\", rmse)\n"
   ]
  },
  {
   "cell_type": "code",
   "execution_count": 41,
   "metadata": {
    "id": "FhM__eSG-bxZ"
   },
   "outputs": [],
   "source": [
    "data_test.index = pd.to_datetime(data_test.index)"
   ]
  },
  {
   "cell_type": "code",
   "execution_count": 43,
   "metadata": {
    "id": "4Z20To_V8rSR"
   },
   "outputs": [],
   "source": [
    "comparison = pd.DataFrame({'stock_price': data_test['Open'],'predictions':predicted_mean})"
   ]
  },
  {
   "cell_type": "code",
   "execution_count": 47,
   "metadata": {
    "colab": {
     "base_uri": "https://localhost:8080/",
     "height": 410
    },
    "id": "9XrjGUFzyJoX",
    "outputId": "99532cd0-835b-45da-d496-038a2b5ae63e"
   },
   "outputs": [
    {
     "data": {
      "image/png": "[encoded data removed]",
      "text/plain": [
       "<Figure size 800x400 with 1 Axes>"
      ]
     },
     "metadata": {},
     "output_type": "display_data"
    }
   ],
   "source": [
    "plt.figure(figsize=(8, 4))\n",
    "plt.plot(comparison.stock_price, label = 'Stock Price ')\n",
    "plt.plot(comparison.predictions, label = 'Predictions')\n",
    "plt.xlabel('Date')\n",
    "plt.ylabel('Stock Price')\n",
    "plt.title('Google Stock Price Forecast')\n",
    "plt.legend()\n",
    "plt.show()"
   ]
  },
  {
   "cell_type": "markdown",
   "metadata": {
    "id": "Rg6FW3mM_lkS"
   },
   "source": [
    "## Conclusion\n",
    "\n",
    "SARIMAX fits the data better than the Linear Regression model with MSE = 408. This because stock price in future is highly correlated with previous stock price, and SARIMAX captures this feature and combined other useful vairables to predict the data, while LR does not."
   ]
  },
  {
   "cell_type": "code",
   "execution_count": null,
   "metadata": {
    "id": "oJTdpSjX9SEE"
   },
   "outputs": [],
   "source": []
  }
 ],
 "metadata": {
  "colab": {
   "provenance": []
  },
  "kernelspec": {
   "display_name": "Python 3",
   "name": "python3"
  },
  "language_info": {
   "codemirror_mode": {
    "name": "ipython",
    "version": 3
   },
   "file_extension": ".py",
   "mimetype": "text/x-python",
   "name": "python",
   "nbconvert_exporter": "python",
   "pygments_lexer": "ipython3",
   "version": "3.11.2"
  }
 },
 "nbformat": 4,
 "nbformat_minor": 0
}