{
 "cells": [
  {
   "cell_type": "markdown",
   "metadata": {},
   "source": [
    "# LSTM"
   ]
  },
  {
   "cell_type": "code",
   "execution_count": 1,
   "metadata": {
    "id": "8DNQrBrxU9m1"
   },
   "outputs": [
    {
     "ename": "ModuleNotFoundError",
     "evalue": "No module named 'matplotlib'",
     "output_type": "error",
     "traceback": [
      "\u001b[0;31m---------------------------------------------------------------------------\u001b[0m",
      "\u001b[0;31mModuleNotFoundError\u001b[0m                       Traceback (most recent call last)",
      "Cell \u001b[0;32mIn[1], line 2\u001b[0m\n\u001b[1;32m      1\u001b[0m \u001b[38;5;28;01mimport\u001b[39;00m \u001b[38;5;21;01mnumpy\u001b[39;00m \u001b[38;5;28;01mas\u001b[39;00m \u001b[38;5;21;01mnp\u001b[39;00m\n\u001b[0;32m----> 2\u001b[0m \u001b[38;5;28;01mimport\u001b[39;00m \u001b[38;5;21;01mmatplotlib\u001b[39;00m\u001b[38;5;21;01m.\u001b[39;00m\u001b[38;5;21;01mpyplot\u001b[39;00m \u001b[38;5;28;01mas\u001b[39;00m \u001b[38;5;21;01mplt\u001b[39;00m\n\u001b[1;32m      3\u001b[0m \u001b[38;5;28;01mimport\u001b[39;00m \u001b[38;5;21;01mpandas\u001b[39;00m \u001b[38;5;28;01mas\u001b[39;00m \u001b[38;5;21;01mpd\u001b[39;00m\n\u001b[1;32m      4\u001b[0m \u001b[38;5;28;01mfrom\u001b[39;00m \u001b[38;5;21;01msklearn\u001b[39;00m\u001b[38;5;21;01m.\u001b[39;00m\u001b[38;5;21;01mpreprocessing\u001b[39;00m \u001b[38;5;28;01mimport\u001b[39;00m MinMaxScaler\n",
      "\u001b[0;31mModuleNotFoundError\u001b[0m: No module named 'matplotlib'"
     ]
    }
   ],
   "source": [
    "import numpy as np\n",
    "import matplotlib.pyplot as plt\n",
    "import pandas as pd\n",
    "from sklearn.preprocessing import MinMaxScaler"
   ]
  },
  {
   "cell_type": "code",
   "execution_count": 19,
   "metadata": {
    "colab": {
     "base_uri": "https://localhost:8080/"
    },
    "id": "EliLQguyWGpq",
    "outputId": "a7cb390a-08d8-41e8-a302-df0b206f769e"
   },
   "outputs": [
    {
     "name": "stdout",
     "output_type": "stream",
     "text": [
      "Drive already mounted at /content/drive; to attempt to forcibly remount, call drive.mount(\"/content/drive\", force_remount=True).\n"
     ]
    }
   ],
   "source": [
    "from google.colab import drive\n",
    "drive.mount(\"/content/drive\")"
   ]
  },
  {
   "cell_type": "code",
   "execution_count": 20,
   "metadata": {
    "id": "fdX325aDWcKR"
   },
   "outputs": [],
   "source": [
    "data = pd.read_csv('/content/drive/MyDrive/5293/Stock_Goog.csv', date_parser = True)\n",
    "\n",
    "data_training = data[data['Date'] < '2021-01-01'].copy()\n",
    "data_training = data_training.drop(columns = ['Date','Adj Close'], axis = 1)\n",
    "\n",
    "data_test = data[data['Date'] >= '2021-01-01'].copy()\n",
    "data_test = data_test.drop(columns = ['Date','Adj Close'], axis = 1)\n"
   ]
  },
  {
   "cell_type": "code",
   "execution_count": 21,
   "metadata": {
    "colab": {
     "base_uri": "https://localhost:8080/"
    },
    "id": "xzVXvL3zW2hd",
    "outputId": "b8bd7f21-3e84-4a6a-bc59-5452e5615733"
   },
   "outputs": [
    {
     "data": {
      "text/plain": [
       "array([[0.00000000e+00, 9.96460606e-04, 0.00000000e+00, 2.32515229e-03,\n",
       "        3.13842604e-01],\n",
       "       [3.02678068e-03, 2.21774475e-03, 2.22046735e-03, 1.72004762e-03,\n",
       "        2.57973342e-01],\n",
       "       [1.48663793e-03, 0.00000000e+00, 8.69506051e-04, 0.00000000e+00,\n",
       "        1.77899019e-01],\n",
       "       ...,\n",
       "       [9.75129849e-01, 9.72245293e-01, 9.79627474e-01, 9.45460846e-01,\n",
       "        3.53162654e-02],\n",
       "       [9.40373753e-01, 9.44719054e-01, 9.67197699e-01, 9.49869847e-01,\n",
       "        5.84944089e-03],\n",
       "       [9.61923204e-01, 9.69487131e-01, 9.82778799e-01, 9.57197654e-01,\n",
       "        1.00323813e-02]])"
      ]
     },
     "execution_count": 21,
     "metadata": {},
     "output_type": "execute_result"
    }
   ],
   "source": [
    "#Scaling\n",
    "scaler = MinMaxScaler()\n",
    "data_training = scaler.fit_transform(data_training)\n",
    "data_training"
   ]
  },
  {
   "cell_type": "code",
   "execution_count": 22,
   "metadata": {
    "id": "A7Z92bADYphu"
   },
   "outputs": [],
   "source": [
    "x_train = []\n",
    "y_train = []\n",
    "for i in range(8, data_training.shape[0]):\n",
    "    x_train.append(data_training[i-8:i])\n",
    "    y_train.append(data_training[i, 0])"
   ]
  },
  {
   "cell_type": "code",
   "execution_count": 23,
   "metadata": {
    "id": "IgI5zHpEaRvB"
   },
   "outputs": [],
   "source": [
    "x_train,y_train = np.array(x_train), np.array(y_train)"
   ]
  },
  {
   "cell_type": "code",
   "execution_count": 24,
   "metadata": {
    "id": "k6NXR6CwaS7E"
   },
   "outputs": [],
   "source": [
    "from tensorflow.keras import Sequential\n",
    "from tensorflow.keras.layers import Dense, LSTM, Dropout"
   ]
  },
  {
   "cell_type": "code",
   "execution_count": 25,
   "metadata": {
    "colab": {
     "base_uri": "https://localhost:8080/"
    },
    "id": "4aYX3CfQaZJT",
    "outputId": "45b0415f-9b4c-4f01-f50f-7058026ce829"
   },
   "outputs": [
    {
     "name": "stdout",
     "output_type": "stream",
     "text": [
      "Model: \"sequential_2\"\n",
      "_________________________________________________________________\n",
      " Layer (type)                Output Shape              Param #   \n",
      "=================================================================\n",
      " lstm_8 (LSTM)               (None, 8, 8)              448       \n",
      "                                                                 \n",
      " dropout_8 (Dropout)         (None, 8, 8)              0         \n",
      "                                                                 \n",
      " lstm_9 (LSTM)               (None, 8, 8)              544       \n",
      "                                                                 \n",
      " dropout_9 (Dropout)         (None, 8, 8)              0         \n",
      "                                                                 \n",
      " lstm_10 (LSTM)              (None, 8, 10)             760       \n",
      "                                                                 \n",
      " dropout_10 (Dropout)        (None, 8, 10)             0         \n",
      "                                                                 \n",
      " lstm_11 (LSTM)              (None, 12)                1104      \n",
      "                                                                 \n",
      " dropout_11 (Dropout)        (None, 12)                0         \n",
      "                                                                 \n",
      " dense_2 (Dense)             (None, 1)                 13        \n",
      "                                                                 \n",
      "=================================================================\n",
      "Total params: 2,869\n",
      "Trainable params: 2,869\n",
      "Non-trainable params: 0\n",
      "_________________________________________________________________\n"
     ]
    }
   ],
   "source": [
    "regressor = Sequential()\n",
    "\n",
    "regressor.add(LSTM(units = 8, activation = 'relu', return_sequences = True, input_shape = (x_train.shape[1], 5)))\n",
    "regressor.add(Dropout(0.2))\n",
    "\n",
    "regressor.add(LSTM(units = 8, activation = 'relu', return_sequences = True))\n",
    "regressor.add(Dropout(0.2))\n",
    "\n",
    "regressor.add(LSTM(units = 10, activation = 'relu', return_sequences = True))\n",
    "regressor.add(Dropout(0.2))\n",
    "\n",
    "regressor.add(LSTM(units = 12, activation = 'relu'))\n",
    "regressor.add(Dropout(0.2))\n",
    "\n",
    "regressor.add(Dense(units = 1))\n",
    "regressor.summary()"
   ]
  },
  {
   "cell_type": "code",
   "execution_count": 26,
   "metadata": {
    "colab": {
     "base_uri": "https://localhost:8080/"
    },
    "id": "uwLx9ksOmE9r",
    "outputId": "03160672-10da-4183-8436-e0b8433839dc"
   },
   "outputs": [
    {
     "name": "stdout",
     "output_type": "stream",
     "text": [
      "Epoch 1/50\n",
      "27/27 [==============================] - 7s 30ms/step - loss: 0.1110\n",
      "Epoch 2/50\n",
      "27/27 [==============================] - 1s 27ms/step - loss: 0.0586\n",
      "Epoch 3/50\n",
      "27/27 [==============================] - 1s 27ms/step - loss: 0.0283\n",
      "Epoch 4/50\n",
      "27/27 [==============================] - 1s 29ms/step - loss: 0.0195\n",
      "Epoch 5/50\n",
      "27/27 [==============================] - 1s 27ms/step - loss: 0.0131\n",
      "Epoch 6/50\n",
      "27/27 [==============================] - 1s 28ms/step - loss: 0.0120\n",
      "Epoch 7/50\n",
      "27/27 [==============================] - 1s 18ms/step - loss: 0.0136\n",
      "Epoch 8/50\n",
      "27/27 [==============================] - 1s 19ms/step - loss: 0.0095\n",
      "Epoch 9/50\n",
      "27/27 [==============================] - 0s 18ms/step - loss: 0.0095\n",
      "Epoch 10/50\n",
      "27/27 [==============================] - 1s 19ms/step - loss: 0.0090\n",
      "Epoch 11/50\n",
      "27/27 [==============================] - 0s 18ms/step - loss: 0.0090\n",
      "Epoch 12/50\n",
      "27/27 [==============================] - 0s 18ms/step - loss: 0.0082\n",
      "Epoch 13/50\n",
      "27/27 [==============================] - 1s 19ms/step - loss: 0.0076\n",
      "Epoch 14/50\n",
      "27/27 [==============================] - 1s 19ms/step - loss: 0.0079\n",
      "Epoch 15/50\n",
      "27/27 [==============================] - 0s 18ms/step - loss: 0.0080\n",
      "Epoch 16/50\n",
      "27/27 [==============================] - 1s 19ms/step - loss: 0.0065\n",
      "Epoch 17/50\n",
      "27/27 [==============================] - 0s 18ms/step - loss: 0.0067\n",
      "Epoch 18/50\n",
      "27/27 [==============================] - 1s 19ms/step - loss: 0.0065\n",
      "Epoch 19/50\n",
      "27/27 [==============================] - 1s 19ms/step - loss: 0.0067\n",
      "Epoch 20/50\n",
      "27/27 [==============================] - 1s 20ms/step - loss: 0.0061\n",
      "Epoch 21/50\n",
      "27/27 [==============================] - 1s 19ms/step - loss: 0.0063\n",
      "Epoch 22/50\n",
      "27/27 [==============================] - 1s 18ms/step - loss: 0.0064\n",
      "Epoch 23/50\n",
      "27/27 [==============================] - 0s 18ms/step - loss: 0.0062\n",
      "Epoch 24/50\n",
      "27/27 [==============================] - 1s 19ms/step - loss: 0.0059\n",
      "Epoch 25/50\n",
      "27/27 [==============================] - 0s 18ms/step - loss: 0.0059\n",
      "Epoch 26/50\n",
      "27/27 [==============================] - 1s 24ms/step - loss: 0.0051\n",
      "Epoch 27/50\n",
      "27/27 [==============================] - 1s 28ms/step - loss: 0.0063\n",
      "Epoch 28/50\n",
      "27/27 [==============================] - 1s 26ms/step - loss: 0.0058\n",
      "Epoch 29/50\n",
      "27/27 [==============================] - 1s 27ms/step - loss: 0.0056\n",
      "Epoch 30/50\n",
      "27/27 [==============================] - 1s 27ms/step - loss: 0.0058\n",
      "Epoch 31/50\n",
      "27/27 [==============================] - 1s 26ms/step - loss: 0.0058\n",
      "Epoch 32/50\n",
      "27/27 [==============================] - 1s 27ms/step - loss: 0.0049\n",
      "Epoch 33/50\n",
      "27/27 [==============================] - 1s 22ms/step - loss: 0.0058\n",
      "Epoch 34/50\n",
      "27/27 [==============================] - 0s 18ms/step - loss: 0.0049\n",
      "Epoch 35/50\n",
      "27/27 [==============================] - 1s 19ms/step - loss: 0.0054\n",
      "Epoch 36/50\n",
      "27/27 [==============================] - 1s 19ms/step - loss: 0.0040\n",
      "Epoch 37/50\n",
      "27/27 [==============================] - 1s 19ms/step - loss: 0.0053\n",
      "Epoch 38/50\n",
      "27/27 [==============================] - 1s 19ms/step - loss: 0.0047\n",
      "Epoch 39/50\n",
      "27/27 [==============================] - 1s 19ms/step - loss: 0.0047\n",
      "Epoch 40/50\n",
      "27/27 [==============================] - 1s 19ms/step - loss: 0.0046\n",
      "Epoch 41/50\n",
      "27/27 [==============================] - 1s 19ms/step - loss: 0.0045\n",
      "Epoch 42/50\n",
      "27/27 [==============================] - 1s 19ms/step - loss: 0.0044\n",
      "Epoch 43/50\n",
      "27/27 [==============================] - 1s 20ms/step - loss: 0.0045\n",
      "Epoch 44/50\n",
      "27/27 [==============================] - 1s 19ms/step - loss: 0.0038\n",
      "Epoch 45/50\n",
      "27/27 [==============================] - 1s 19ms/step - loss: 0.0043\n",
      "Epoch 46/50\n",
      "27/27 [==============================] - 0s 18ms/step - loss: 0.0046\n",
      "Epoch 47/50\n",
      "27/27 [==============================] - 0s 18ms/step - loss: 0.0040\n",
      "Epoch 48/50\n",
      "27/27 [==============================] - 0s 18ms/step - loss: 0.0046\n",
      "Epoch 49/50\n",
      "27/27 [==============================] - 1s 19ms/step - loss: 0.0043\n",
      "Epoch 50/50\n",
      "27/27 [==============================] - 1s 19ms/step - loss: 0.0041\n"
     ]
    },
    {
     "data": {
      "text/plain": [
       "<keras.callbacks.History at 0x7f9fbec2cbb0>"
      ]
     },
     "execution_count": 26,
     "metadata": {},
     "output_type": "execute_result"
    }
   ],
   "source": [
    "regressor.compile(optimizer='adam', loss = 'mean_squared_error')\n",
    "regressor.fit(x_train, y_train, epochs=50, batch_size=32)"
   ]
  },
  {
   "cell_type": "code",
   "execution_count": 27,
   "metadata": {
    "colab": {
     "base_uri": "https://localhost:8080/"
    },
    "id": "jC4hFZKMmYb8",
    "outputId": "a9afbe4e-3ee7-4044-c731-93ab9ae04af5"
   },
   "outputs": [
    {
     "data": {
      "text/plain": [
       "((108, 8, 5), (108,))"
      ]
     },
     "execution_count": 27,
     "metadata": {},
     "output_type": "execute_result"
    }
   ],
   "source": [
    "inputs = scaler.transform(data_test)\n",
    "X_test = []\n",
    "y_test = []\n",
    "\n",
    "for i in range(8, inputs.shape[0]):\n",
    "    X_test.append(inputs[i-8:i])\n",
    "    y_test.append(inputs[i, 0])\n",
    "\n",
    "X_test, y_test = np.array(X_test), np.array(y_test)\n",
    "X_test.shape, y_test.shape"
   ]
  },
  {
   "cell_type": "code",
   "execution_count": 28,
   "metadata": {
    "colab": {
     "base_uri": "https://localhost:8080/"
    },
    "id": "nC37ie_um8OI",
    "outputId": "e49115ec-9b1e-41ee-8050-28dbe90fb9ea"
   },
   "outputs": [
    {
     "name": "stdout",
     "output_type": "stream",
     "text": [
      "4/4 [==============================] - 1s 5ms/step\n"
     ]
    }
   ],
   "source": [
    "#Predicting\n",
    "y_pred = regressor.predict(X_test)\n",
    "#scaling scale\n",
    "scale = 1/scaler.scale_[0]\n",
    "y_pred = y_pred * scale\n",
    "y_test = y_test * scale"
   ]
  },
  {
   "cell_type": "code",
   "execution_count": 29,
   "metadata": {
    "colab": {
     "base_uri": "https://localhost:8080/"
    },
    "id": "qbyVNE-JoCQ1",
    "outputId": "14c9cb45-b4bf-48b2-9df3-f4b15e223bff"
   },
   "outputs": [
    {
     "data": {
      "text/plain": [
       "(116, 5)"
      ]
     },
     "execution_count": 29,
     "metadata": {},
     "output_type": "execute_result"
    }
   ],
   "source": [
    "len(y_test)\n",
    "data_test.shape"
   ]
  },
  {
   "cell_type": "code",
   "execution_count": 30,
   "metadata": {
    "colab": {
     "base_uri": "https://localhost:8080/",
     "height": 487
    },
    "id": "RuB-b2nknMXH",
    "outputId": "b38098b7-53a7-46b5-cd91-ae9678c00344"
   },
   "outputs": [
    {
     "data": {
      "image/png": "[encoded data removed]",
      "text/plain": [
       "<Figure size 1400x500 with 1 Axes>"
      ]
     },
     "metadata": {},
     "output_type": "display_data"
    }
   ],
   "source": [
    "plt.figure(figsize=(14,5))\n",
    "plt.plot(y_test, color = 'red', label = 'Real Google Stock Price')\n",
    "plt.plot(y_pred, color = 'blue', label = 'Predicted Google Stock Price')\n",
    "plt.title('Google Stock Price Prediction')\n",
    "plt.xlabel('Time')\n",
    "plt.ylabel('Google Stock Price')\n",
    "plt.legend()\n",
    "plt.show()"
   ]
  },
  {
   "cell_type": "code",
   "execution_count": 30,
   "metadata": {
    "id": "e81s2XBqnbcb"
   },
   "outputs": [],
   "source": []
  }
 ],
 "metadata": {
  "colab": {
   "provenance": []
  },
  "kernelspec": {
   "display_name": "Python 3 (ipykernel)",
   "language": "python",
   "name": "python3"
  },
  "language_info": {
   "codemirror_mode": {
    "name": "ipython",
    "version": 3
   },
   "file_extension": ".py",
   "mimetype": "text/x-python",
   "name": "python",
   "nbconvert_exporter": "python",
   "pygments_lexer": "ipython3",
   "version": "3.11.2"
  }
 },
 "nbformat": 4,
 "nbformat_minor": 1
}