{
  "nbformat": 4,
  "nbformat_minor": 0,
  "metadata": {
    "colab": {
      "provenance": []
    },
    "kernelspec": {
      "name": "python3",
      "display_name": "Python 3"
    },
    "language_info": {
      "name": "python"
    }
  },
  "cells": [
    {
      "cell_type": "markdown",
      "source": [
        "# Model3 LSTM"
      ],
      "metadata": {
        "id": "7AWA0wbltnLo"
      }
    },
    {
      "cell_type": "markdown",
      "source": [
        "An LSTM (Long Short-Term Memory) is a type of artificial neural network that can remember patterns or sequences over a long period of time. Imagine you're trying to understand a story that someone is telling you, word by word. To make sense of the story, you need to remember not just the current word but also the words that came before it. This is similar to what an LSTM does.\n",
        "\n",
        "Think of an LSTM as a series of connected \"memory cells,\" each cell responsible for remembering a part of the sequence. As information passes through these cells, they can \"learn\" which parts are important and should be remembered, and which parts can be forgotten. This is useful when dealing with data that has a time component, like speech, music, or a series of text messages."
      ],
      "metadata": {
        "id": "lT9Q8XeD-2BO"
      }
    },
    {
      "cell_type": "markdown",
      "source": [
        "![3](<https://raw.githubusercontent.com/jh4578/5293finalproject/main/_build/html/_images/LSTM3.webp>)"
      ],
      "metadata": {
        "id": "9SHUt265rhp6"
      }
    },
    {
      "cell_type": "markdown",
      "source": [
        "![2](<https://raw.githubusercontent.com/jh4578/5293finalproject/main/_build/html/_images/LSTM2.webp>)"
      ],
      "metadata": {
        "id": "b9IhENDAredn"
      }
    },
    {
      "cell_type": "markdown",
      "source": [
        "Although it looks complex, you will easily understand it with one example. \n",
        "Suppose we are going to take a sequence of exams: high school math --> Calculus --> Linear Algebra --> … At this point, we just finished our high school math exam, and we are studying for the Calculus exam. \n",
        " \n",
        "The memory we have right now is $C_{t-1}$ in the left corner, it includes plenty of knowledge related to high school math. $h_{t-1}$ in the left bottom represents ourselves, $X_t$ represents the textbooks of Calculus. \n",
        "\n",
        "When we read the Calculus textbooks ($h_{t-1}$ and $X_t$ merge), we realized that some of our memory is irrelevant to Calculus, such as geometry. Since our memory space is limited, we need to forget that irrelevant knowledge, which is shown by the forget gate $f_t$. \n",
        " \n",
        "Then we discover some Calculus information, and we need to memorize it. Again, since our memory space is limited, we don’t want to learn knowledge irrelevant to the exam, such as the history of Calculus. That’s what the yellow tanh and $i_t$ do. $i_t$ takes charge of learning knowledge, while tanh filters the relevant knowledge. \n",
        " \n",
        "Finally, we are going to take the exam. In the exam, we need to grab specific knowledge (not all knowledge) from our memory to solve specific questions. That’s how the red tanh work, it filters our memory and grabs specific knowledge. After we finished the exam, we will receive an output score h_t in the upper right corner. We can use that score to check how good is our study process. Also, we will pass our memory $C_t$ to the next cell. "
      ],
      "metadata": {
        "id": "sMnbutD1ADqw"
      }
    },
    {
      "cell_type": "code",
      "execution_count": null,
      "metadata": {
        "id": "OoHmyVAmhIzr"
      },
      "outputs": [],
      "source": [
        "import pandas as pd\n",
        "import yfinance as yf\n",
        "import numpy as np\n",
        "from matplotlib import pyplot as plt"
      ]
    },
    {
      "cell_type": "code",
      "source": [
        "data = pd.read_csv('https://raw.githubusercontent.com/jh4578/5293finalproject/main/GOOG.csv',date_parser = True)"
      ],
      "metadata": {
        "id": "cj0yNk5ml82p"
      },
      "execution_count": null,
      "outputs": []
    },
    {
      "cell_type": "code",
      "source": [
        "data.index = data['Date']\n",
        "data.drop(columns = ['Date','Volume'], inplace = True)\n"
      ],
      "metadata": {
        "id": "OPq3I_3qk8B0"
      },
      "execution_count": null,
      "outputs": []
    },
    {
      "cell_type": "code",
      "source": [
        "data.head()"
      ],
      "metadata": {
        "colab": {
          "base_uri": "https://localhost:8080/",
          "height": 237
        },
        "id": "yTKBvIuGn0Ln",
        "outputId": "1d730c8c-5be0-4784-e311-f394846b21c6"
      },
      "execution_count": null,
      "outputs": [
        {
          "output_type": "execute_result",
          "data": {
            "text/plain": [
              "                Open      High       Low     Close  Adj Close\n",
              "Date                                                         \n",
              "2004-08-19  2.490664  2.591785  2.390042  2.499133   2.499133\n",
              "2004-08-20  2.515820  2.716817  2.503118  2.697639   2.697639\n",
              "2004-08-23  2.758411  2.826406  2.716070  2.724787   2.724787\n",
              "2004-08-24  2.770615  2.779581  2.579581  2.611960   2.611960\n",
              "2004-08-25  2.614201  2.689918  2.587302  2.640104   2.640104"
            ],
            "text/html": [
              "\n",
              "  <div id=\"df-34496af5-77b8-4275-b045-a90d9e6a7968\">\n",
              "    <div class=\"colab-df-container\">\n",
              "      <div>\n",
              "<style scoped>\n",
              "    .dataframe tbody tr th:only-of-type {\n",
              "        vertical-align: middle;\n",
              "    }\n",
              "\n",
              "    .dataframe tbody tr th {\n",
              "        vertical-align: top;\n",
              "    }\n",
              "\n",
              "    .dataframe thead th {\n",
              "        text-align: right;\n",
              "    }\n",
              "</style>\n",
              "<table border=\"1\" class=\"dataframe\">\n",
              "  <thead>\n",
              "    <tr style=\"text-align: right;\">\n",
              "      <th></th>\n",
              "      <th>Open</th>\n",
              "      <th>High</th>\n",
              "      <th>Low</th>\n",
              "      <th>Close</th>\n",
              "      <th>Adj Close</th>\n",
              "    </tr>\n",
              "    <tr>\n",
              "      <th>Date</th>\n",
              "      <th></th>\n",
              "      <th></th>\n",
              "      <th></th>\n",
              "      <th></th>\n",
              "      <th></th>\n",
              "    </tr>\n",
              "  </thead>\n",
              "  <tbody>\n",
              "    <tr>\n",
              "      <th>2004-08-19</th>\n",
              "      <td>2.490664</td>\n",
              "      <td>2.591785</td>\n",
              "      <td>2.390042</td>\n",
              "      <td>2.499133</td>\n",
              "      <td>2.499133</td>\n",
              "    </tr>\n",
              "    <tr>\n",
              "      <th>2004-08-20</th>\n",
              "      <td>2.515820</td>\n",
              "      <td>2.716817</td>\n",
              "      <td>2.503118</td>\n",
              "      <td>2.697639</td>\n",
              "      <td>2.697639</td>\n",
              "    </tr>\n",
              "    <tr>\n",
              "      <th>2004-08-23</th>\n",
              "      <td>2.758411</td>\n",
              "      <td>2.826406</td>\n",
              "      <td>2.716070</td>\n",
              "      <td>2.724787</td>\n",
              "      <td>2.724787</td>\n",
              "    </tr>\n",
              "    <tr>\n",
              "      <th>2004-08-24</th>\n",
              "      <td>2.770615</td>\n",
              "      <td>2.779581</td>\n",
              "      <td>2.579581</td>\n",
              "      <td>2.611960</td>\n",
              "      <td>2.611960</td>\n",
              "    </tr>\n",
              "    <tr>\n",
              "      <th>2004-08-25</th>\n",
              "      <td>2.614201</td>\n",
              "      <td>2.689918</td>\n",
              "      <td>2.587302</td>\n",
              "      <td>2.640104</td>\n",
              "      <td>2.640104</td>\n",
              "    </tr>\n",
              "  </tbody>\n",
              "</table>\n",
              "</div>\n",
              "      <button class=\"colab-df-convert\" onclick=\"convertToInteractive('df-34496af5-77b8-4275-b045-a90d9e6a7968')\"\n",
              "              title=\"Convert this dataframe to an interactive table.\"\n",
              "              style=\"display:none;\">\n",
              "        \n",
              "  <svg xmlns=\"http://www.w3.org/2000/svg\" height=\"24px\"viewBox=\"0 0 24 24\"\n",
              "       width=\"24px\">\n",
              "    <path d=\"M0 0h24v24H0V0z\" fill=\"none\"/>\n",
              "    <path d=\"M18.56 5.44l.94 2.06.94-2.06 2.06-.94-2.06-.94-.94-2.06-.94 2.06-2.06.94zm-11 1L8.5 8.5l.94-2.06 2.06-.94-2.06-.94L8.5 2.5l-.94 2.06-2.06.94zm10 10l.94 2.06.94-2.06 2.06-.94-2.06-.94-.94-2.06-.94 2.06-2.06.94z\"/><path d=\"M17.41 7.96l-1.37-1.37c-.4-.4-.92-.59-1.43-.59-.52 0-1.04.2-1.43.59L10.3 9.45l-7.72 7.72c-.78.78-.78 2.05 0 2.83L4 21.41c.39.39.9.59 1.41.59.51 0 1.02-.2 1.41-.59l7.78-7.78 2.81-2.81c.8-.78.8-2.07 0-2.86zM5.41 20L4 18.59l7.72-7.72 1.47 1.35L5.41 20z\"/>\n",
              "  </svg>\n",
              "      </button>\n",
              "      \n",
              "  <style>\n",
              "    .colab-df-container {\n",
              "      display:flex;\n",
              "      flex-wrap:wrap;\n",
              "      gap: 12px;\n",
              "    }\n",
              "\n",
              "    .colab-df-convert {\n",
              "      background-color: #E8F0FE;\n",
              "      border: none;\n",
              "      border-radius: 50%;\n",
              "      cursor: pointer;\n",
              "      display: none;\n",
              "      fill: #1967D2;\n",
              "      height: 32px;\n",
              "      padding: 0 0 0 0;\n",
              "      width: 32px;\n",
              "    }\n",
              "\n",
              "    .colab-df-convert:hover {\n",
              "      background-color: #E2EBFA;\n",
              "      box-shadow: 0px 1px 2px rgba(60, 64, 67, 0.3), 0px 1px 3px 1px rgba(60, 64, 67, 0.15);\n",
              "      fill: #174EA6;\n",
              "    }\n",
              "\n",
              "    [theme=dark] .colab-df-convert {\n",
              "      background-color: #3B4455;\n",
              "      fill: #D2E3FC;\n",
              "    }\n",
              "\n",
              "    [theme=dark] .colab-df-convert:hover {\n",
              "      background-color: #434B5C;\n",
              "      box-shadow: 0px 1px 3px 1px rgba(0, 0, 0, 0.15);\n",
              "      filter: drop-shadow(0px 1px 2px rgba(0, 0, 0, 0.3));\n",
              "      fill: #FFFFFF;\n",
              "    }\n",
              "  </style>\n",
              "\n",
              "      <script>\n",
              "        const buttonEl =\n",
              "          document.querySelector('#df-34496af5-77b8-4275-b045-a90d9e6a7968 button.colab-df-convert');\n",
              "        buttonEl.style.display =\n",
              "          google.colab.kernel.accessAllowed ? 'block' : 'none';\n",
              "\n",
              "        async function convertToInteractive(key) {\n",
              "          const element = document.querySelector('#df-34496af5-77b8-4275-b045-a90d9e6a7968');\n",
              "          const dataTable =\n",
              "            await google.colab.kernel.invokeFunction('convertToInteractive',\n",
              "                                                     [key], {});\n",
              "          if (!dataTable) return;\n",
              "\n",
              "          const docLinkHtml = 'Like what you see? Visit the ' +\n",
              "            '<a target=\"_blank\" href=https://colab.research.google.com/notebooks/data_table.ipynb>data table notebook</a>'\n",
              "            + ' to learn more about interactive tables.';\n",
              "          element.innerHTML = '';\n",
              "          dataTable['output_type'] = 'display_data';\n",
              "          await google.colab.output.renderOutput(dataTable, element);\n",
              "          const docLink = document.createElement('div');\n",
              "          docLink.innerHTML = docLinkHtml;\n",
              "          element.appendChild(docLink);\n",
              "        }\n",
              "      </script>\n",
              "    </div>\n",
              "  </div>\n",
              "  "
            ]
          },
          "metadata": {},
          "execution_count": 4
        }
      ]
    },
    {
      "cell_type": "code",
      "source": [
        "data[:'2019'].iloc[:,0:1].values"
      ],
      "metadata": {
        "colab": {
          "base_uri": "https://localhost:8080/"
        },
        "id": "VRCPcCojIauV",
        "outputId": "d90b57c6-394d-44d6-8c8a-e4ba64be7263"
      },
      "execution_count": null,
      "outputs": [
        {
          "output_type": "execute_result",
          "data": {
            "text/plain": [
              "array([[ 2.490664],\n",
              "       [ 2.51582 ],\n",
              "       [ 2.758411],\n",
              "       ...,\n",
              "       [50.857498],\n",
              "       [52.480999],\n",
              "       [52.548   ]])"
            ]
          },
          "metadata": {},
          "execution_count": 5
        }
      ]
    },
    {
      "cell_type": "markdown",
      "source": [
        "Here we define a function organize train and test data set. We will use the data from 2004 to 2019 to train the model and the other used for test. "
      ],
      "metadata": {
        "id": "Hwps0qScGdsU"
      }
    },
    {
      "cell_type": "code",
      "source": [
        "time_step_in = 5\n",
        "time_step_out = 2\n",
        "\n",
        "# Split training and testing data\n",
        "data_train = data[:'2019'].iloc[:,0:1].values\n",
        "data_test = data['2019':].iloc[:,0:1].values\n",
        "data_value = data.iloc[:,0:1].values\n",
        "\n",
        "# Scale the data\n",
        "from sklearn.preprocessing import MinMaxScaler\n",
        "sc = MinMaxScaler(feature_range=(0,1))\n",
        "data_sc = sc.fit_transform(data_value)\n",
        "\n",
        "# Create X_train and y_train \n",
        "X_train = []\n",
        "y_train = []\n",
        "for i in range(time_step_in,len(data_train) - time_step_out - 1):\n",
        "  X_train.append(data_sc[i - time_step_in:i, 0])\n",
        "  y_train.append(data_sc[i:i + time_step_out,0])\n",
        "\n",
        "\n",
        "X_train, y_train = np.array(X_train), np.array(y_train)\n",
        "# We can take a look at the X_train and y_train\n",
        "#print(pd.concat([pd.DataFrame(X_train),pd.DataFrame(y_train)],axis = 1))\n",
        "\n",
        "X_train = np.reshape(X_train, (X_train.shape[0],X_train.shape[1],1))\n",
        "\n",
        "X_test = []\n",
        "# Create X_test\n",
        "for i in range(len(data_train) - time_step_out - 1, len(data_sc) - time_step_out - 1 ):\n",
        "  X_test.append(data_sc[i - time_step_in:i,0])\n",
        "X_test = np.array(X_test)\n",
        "print(X_test)\n",
        "X_test = np.reshape(X_test, (X_test.shape[0],X_test.shape[1],1))"
      ],
      "metadata": {
        "colab": {
          "base_uri": "https://localhost:8080/"
        },
        "id": "iVNvCYvyOwSr",
        "outputId": "5e7b7080-8826-42b4-e5b5-8f7add023cf9"
      },
      "execution_count": null,
      "outputs": [
        {
          "output_type": "stream",
          "name": "stdout",
          "text": [
            "[[0.32952688 0.32421874 0.32327155 0.30941549 0.31447262]\n",
            " [0.32421874 0.32327155 0.30941549 0.31447262 0.32389072]\n",
            " [0.32327155 0.30941549 0.31447262 0.32389072 0.33475804]\n",
            " ...\n",
            " [0.69226473 0.69126067 0.6884493  0.67291979 0.67104555]\n",
            " [0.69126067 0.6884493  0.67291979 0.67104555 0.66247755]\n",
            " [0.6884493  0.67291979 0.67104555 0.66247755 0.66428484]]\n"
          ]
        }
      ]
    },
    {
      "cell_type": "code",
      "source": [
        "def actual_pred_plot(preds):\n",
        "    actual_pred = pd.DataFrame(columns = ['Open', 'prediction'])\n",
        "    actual_pred['Open'] = data.loc['2019':,'Open'][0:len(preds)]\n",
        "    actual_pred['prediction'] = preds[:,0]\n",
        "\n",
        "    from keras.metrics import MeanSquaredError\n",
        "    m = MeanSquaredError()\n",
        "    m.update_state(np.array(actual_pred['Open']),np.array(actual_pred['prediction']))\n",
        "    \n",
        "    return (m.result().numpy(), actual_pred.plot() )\n",
        "    "
      ],
      "metadata": {
        "id": "eKqgHxaJpiNL"
      },
      "execution_count": null,
      "outputs": []
    },
    {
      "cell_type": "code",
      "source": [
        "def LSTM_model(X_train, y_train, X_test, sc):\n",
        "    # create a model\n",
        "    from keras.models import Sequential\n",
        "    from keras.layers import Dense, SimpleRNN, GRU, LSTM\n",
        "    from keras.optimizers import SGD\n",
        "    \n",
        "    # The LSTM architecture\n",
        "    my_LSTM_model = Sequential()\n",
        "    my_LSTM_model.add(LSTM(units=50, return_sequences=True, input_shape=(X_train.shape[1],1), activation='tanh'))\n",
        "    my_LSTM_model.add(LSTM(units=50, activation='tanh'))\n",
        "    my_LSTM_model.add(Dense(units=2))\n",
        "\n",
        "    # Compiling\n",
        "    my_LSTM_model.compile(optimizer=SGD(lr=0.01, decay=1e-7, momentum=0.9, nesterov=False),loss='mean_squared_error')\n",
        "    # Fitting to the training set\n",
        "    my_LSTM_model.fit(X_train,y_train,epochs=50,batch_size=150, verbose=0)\n",
        "\n",
        "    LSTM_prediction = my_LSTM_model.predict(X_test)\n",
        "    LSTM_prediction = sc.inverse_transform(LSTM_prediction)\n",
        "\n",
        "    return my_LSTM_model, LSTM_prediction\n",
        "\n",
        "\n",
        "my_LSTM_model, LSTM_prediction = LSTM_model(X_train, y_train, X_test, sc)\n",
        "actual_pred_plot(LSTM_prediction) "
      ],
      "metadata": {
        "colab": {
          "base_uri": "https://localhost:8080/",
          "height": 540
        },
        "id": "R1FrJcuAH1zh",
        "outputId": "94966926-5bd7-4475-ccc1-5a688fa5770c"
      },
      "execution_count": null,
      "outputs": [
        {
          "output_type": "stream",
          "name": "stderr",
          "text": [
            "/usr/local/lib/python3.9/dist-packages/keras/optimizers/legacy/gradient_descent.py:114: UserWarning: The `lr` argument is deprecated, use `learning_rate` instead.\n",
            "  super().__init__(name, **kwargs)\n"
          ]
        },
        {
          "output_type": "stream",
          "name": "stdout",
          "text": [
            "34/34 [==============================] - 1s 2ms/step\n"
          ]
        },
        {
          "output_type": "execute_result",
          "data": {
            "text/plain": [
              "(501.4106, <Axes: xlabel='Date'>)"
            ]
          },
          "metadata": {},
          "execution_count": 8
        },
        {
          "output_type": "display_data",
          "data": {
            "text/plain": [
              "<Figure size 640x480 with 1 Axes>"
            ],
            "image/png": "[encoded data removed]"
          },
          "metadata": {}
        }
      ]
    },
    {
      "cell_type": "code",
      "source": [
        "LSTM_prediction"
      ],
      "metadata": {
        "colab": {
          "base_uri": "https://localhost:8080/"
        },
        "id": "-LRkn90KNLXT",
        "outputId": "195a698c-a887-43da-ef7e-a0ad24994862"
      },
      "execution_count": null,
      "outputs": [
        {
          "output_type": "execute_result",
          "data": {
            "text/plain": [
              "array([[44.33528 , 45.61733 ],\n",
              "       [44.03457 , 45.28942 ],\n",
              "       [44.087112, 45.33005 ],\n",
              "       ...,\n",
              "       [82.689186, 86.69119 ],\n",
              "       [82.15135 , 86.11352 ],\n",
              "       [81.55466 , 85.46417 ]], dtype=float32)"
            ]
          },
          "metadata": {},
          "execution_count": 9
        }
      ]
    },
    {
      "cell_type": "markdown",
      "source": [
        "The prediction looks great, BUT that is because every predictions I made was based on real data, not the predicted data. \n",
        "\n",
        "If I want to predict the stock without the real data (we cannot get real data for stock in future), I need to use the Recursive Multi-step Forecast Strategy."
      ],
      "metadata": {
        "id": "rJ6WMLkZqKF2"
      }
    },
    {
      "cell_type": "code",
      "source": [
        "# predict with the test data\n",
        "input_sequence = X_test[0].reshape(1, time_step_in, 1)\n",
        "# Initialize an empty list to store predictions\n",
        "predictions = []\n",
        "\n",
        "for i in range(len(X_test)):\n",
        "    # Predict the next time_step_out points using the current input_sequence\n",
        "    pred = my_LSTM_model.predict(input_sequence)\n",
        "    \n",
        "    # Add the predicted points to the predictions list\n",
        "    predictions.extend(pred[0])\n",
        "    \n",
        "    # Update the input_sequence by adding the predicted points and removing the first time_step_out points\n",
        "    input_sequence = np.roll(input_sequence, -time_step_out)\n",
        "    input_sequence[0, -time_step_out:] = pred.reshape(-1,1)\n",
        "\n",
        "# Inverse transform the predictions\n",
        "predictions = sc.inverse_transform(np.array(predictions).reshape(-1, 1))\n",
        "plt.plot(predictions)"
      ],
      "metadata": {
        "id": "RB0KtHelPjyf"
      },
      "execution_count": null,
      "outputs": []
    }
  ]
}